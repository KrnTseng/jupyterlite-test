{
 "cells": [
  {
   "cell_type": "markdown",
   "id": "93f30f3b-2e8d-472d-bbdd-ca395462059c",
   "metadata": {},
   "source": [
    "# PCA tidyverse style\n",
    "This file reads in a csv file from the \"data\" folder and creates PCA plots of selected species."
   ]
  },
  {
   "cell_type": "markdown",
   "id": "3863070d-3b4f-4edd-b13d-0ef221f338eb",
   "metadata": {},
   "source": [
    "## 1. Setup"
   ]
  },
  {
   "cell_type": "markdown",
   "id": "a3e2174a-c8d1-4877-99e1-3f798b8f50e0",
   "metadata": {},
   "source": [
    "Install the necessary packages. You can check whether you have these packages already installed by running `conda list`."
   ]
  },
  {
   "cell_type": "code",
   "execution_count": null,
   "id": "511bfe70-119c-4e1c-ab5b-031aaf5cbf73",
   "metadata": {
    "scrolled": true
   },
   "outputs": [],
   "source": [
    "install.packages(\"readr\")\n",
    "install.packages(\"dlookr\")\n",
    "install.packages(\"devtools\")\n",
    "install.packages(\"tidyverse\")\n",
    "install.packages(\"ggfortify\")\n",
    "install.packages(\"cowplot\")\n",
    "install.packages(\"plotly\")\n",
    "install.packages(\"ggrepel\")\n",
    "devtools::install_github(\"tidymodels/broom\")"
   ]
  },
  {
   "cell_type": "markdown",
   "id": "87c3d7da-fd0a-498f-a8a9-7282f5e6b779",
   "metadata": {},
   "source": [
    "If any packages fail to install with the cell block above, try to install using the following commands\n",
    "- `conda install r-devtools r-tidyverse`\n",
    "- `conda install conda-forge::r-dlookr conda-forge::r-ggfortify conda-forge::r-cowplot conda-forge::r-plotly conda-forge::r-ggrepel`"
   ]
  },
  {
   "cell_type": "code",
   "execution_count": null,
   "id": "727edc5e-b87d-413a-9bba-b3898d0c1787",
   "metadata": {
    "scrolled": true
   },
   "outputs": [],
   "source": [
    "# import libraries\n",
    "library(scales)\n",
    "library(readr)\n",
    "library(dlookr)\n",
    "library(dplyr)\n",
    "library(broom)\n",
    "library(ggplot2)\n",
    "library(cowplot)\n",
    "library(plotly)\n",
    "library(htmltools)\n",
    "library(tidyr)\n",
    "library(ggrepel)"
   ]
  },
  {
   "cell_type": "markdown",
   "id": "acb09561-281a-4b00-af43-76dffc0068e0",
   "metadata": {},
   "source": [
    "## 2. Customization"
   ]
  },
  {
   "cell_type": "markdown",
   "id": "5eb73075-18e2-41bd-8098-4563bd3f96e4",
   "metadata": {},
   "source": [
    "Change the values in this section to adapt this program to your species. Then, run all code cells below this section to generate your PCA plots. There is no need to modify code cells outside of this section."
   ]
  },
  {
   "cell_type": "code",
   "execution_count": null,
   "id": "4b7edfee-a5ad-4e4d-9298-1baa08388ac5",
   "metadata": {
    "scrolled": true
   },
   "outputs": [],
   "source": [
    "# Change filename to match the name and directory of your data file. Datafile should be complete (no missing values)\n",
    "input_file = \"data/morph.csv\""
   ]
  },
  {
   "cell_type": "code",
   "execution_count": null,
   "id": "519ea788-c18f-42f6-b32b-ce66b9d691fa",
   "metadata": {},
   "outputs": [],
   "source": [
    "# Filename for the eigenvalue barplot that will be generated. Change name as desired.\n",
    "ev_file = \"output/eigenvalue barplot.pdf\"\n",
    "\n",
    "# Filename for pca plots that will be generated. Change names as desired.\n",
    "pca_static_file = \"output/static pca plot.pdf\"\n",
    "# Note: saving the dynamic pca plot in the same folder as this .ipynb file prevents creation of an extra folder for html components\n",
    "pca_dynamic_file = \"dynamic pca plot.html\"\n",
    "\n",
    "# Filename for csv of PCA variable coordinates that will be generated. Change name as desired.\n",
    "pca_var_file = \"output/pca var.csv\"\n",
    "\n",
    "# Filename for rotation matrix plot that will be generated. Change name as desired.\n",
    "rotation_file = \"output/rotation matrix.pdf\""
   ]
  },
  {
   "cell_type": "code",
   "execution_count": null,
   "id": "0c81e428-eee9-412e-bdd8-cd5d79915384",
   "metadata": {},
   "outputs": [],
   "source": [
    "# List of species to include in the PCA plot. Change as needed\n",
    "species_list = c(\"E. jamesdixoni\", \"E. nitidus\")"
   ]
  },
  {
   "cell_type": "code",
   "execution_count": null,
   "id": "de7f0fbd-fbd6-45c0-8869-15755423e2e1",
   "metadata": {},
   "outputs": [],
   "source": [
    "# custom qualitative color palettes\n",
    "palette_colorblind <- c(\"#E69F00\",\n",
    "                        \"#56B4E9\",\n",
    "                        \"#009E73\",\n",
    "                        \"#F0E442\",\n",
    "                        \"#0072B2\",\n",
    "                        \"#D55E00\",\n",
    "                        \"#CC79A7\",\n",
    "                        \"#999999\")\n",
    "palette_cb_ext <- c(\"#ebac23\",\n",
    "                    \"#b80058\",\n",
    "                    \"#008cf9\",\n",
    "                    \"#006e00\",\n",
    "                    \"#00bbad\",\n",
    "                    \"#d163e6\",\n",
    "                    \"#b24502\",\n",
    "                    \"#ff9287\",\n",
    "                    \"#5954d6\",\n",
    "                    \"#00c6f8\",\n",
    "                    \"#878500\",\n",
    "                    \"#00a76c\",\n",
    "                    \"#979797\",\n",
    "                    \"#1e1e1e\")\n",
    "\n",
    "print(\"Color palettes:\")\n",
    "par(mfrow=c(1,2))            # output color previews on 2 lines\n",
    "show_col(palette_colorblind) # colorblind-friendly palette\n",
    "show_col(palette_cb_ext)     # extended colorblind-friendly palette"
   ]
  },
  {
   "cell_type": "markdown",
   "id": "b52d5a19-c380-40ed-a628-2bccb0da7f75",
   "metadata": {},
   "source": [
    "## 3. Data Preprocessing"
   ]
  },
  {
   "cell_type": "code",
   "execution_count": null,
   "id": "ffcb1d7f-0283-401a-8acc-4f7d0e6a8075",
   "metadata": {},
   "outputs": [],
   "source": [
    "# Read in csv file as tibble\n",
    "morph <- read_csv(input_file, col_types = cols(Specimen = \"c\", Species = \"f\"))\n",
    "# keep only the data for species in species_list\n",
    "morph <- morph %>% filter(Species %in% species_list)\n",
    "morph"
   ]
  },
  {
   "cell_type": "code",
   "execution_count": null,
   "id": "d21526bf-1abd-4fa8-aa92-40f8694a7bd5",
   "metadata": {},
   "outputs": [],
   "source": [
    "# Check for skewness with dlookr package\n",
    "# find names of skewed variables\n",
    "find_skewness(morph, index = FALSE)\n",
    "\n",
    "# compute the skewness\n",
    "find_skewness(morph, value = TRUE)"
   ]
  },
  {
   "cell_type": "code",
   "execution_count": null,
   "id": "6f2c498f-7c04-42fb-b5b0-9f37d49e1ddc",
   "metadata": {},
   "outputs": [],
   "source": [
    "# log10 transform continuous variables\n",
    "log10.morph <- morph %>% \n",
    "    transmute(\n",
    "        ID = Specimen,\n",
    "        Species = Species,\n",
    "        log.HW = log(HW),\n",
    "        log.SVL = log(SVL),\n",
    "        log.IOD = log(IOD),\n",
    "        log.ED = log(ED),\n",
    "        log.IND = log(IND),\n",
    "        log.EN = log(EN),\n",
    "        log.FL = log(FL),\n",
    "        log.TD = log(TD),\n",
    "        log.THL = log(THL),\n",
    "        log.HAL = log(HAL),\n",
    "        log.FLL = log(FLL),\n",
    "        log.Fin3L = log(Fin3L),\n",
    "        log.Fin3DW = log(Fin3DW),\n",
    "        log.Fin4L = log(Fin4L),\n",
    "        log.Fin4DW = log(Fin4DW)\n",
    "    )"
   ]
  },
  {
   "cell_type": "markdown",
   "id": "98eff2fe-b6c4-4213-b221-3ee17a022744",
   "metadata": {},
   "source": [
    "## 4. PCA"
   ]
  },
  {
   "cell_type": "markdown",
   "id": "6c65e4f1-c1ff-4cb8-a79e-d5f1591a1fff",
   "metadata": {},
   "source": [
    "### a) Perform PCA"
   ]
  },
  {
   "cell_type": "code",
   "execution_count": null,
   "id": "2cd393e8-ad62-40ae-98fa-16bfbe7a5498",
   "metadata": {
    "scrolled": true
   },
   "outputs": [],
   "source": [
    "## Center and scale data to unit variance and perform PCA ##\n",
    "pca_fit <- log10.morph %>%\n",
    "  select(where(is.numeric)) %>% \n",
    "  prcomp(center = TRUE,\n",
    "         scale = TRUE)"
   ]
  },
  {
   "cell_type": "markdown",
   "id": "e0bdffbe-0ba2-45b3-8355-78f4dcf1dd92",
   "metadata": {},
   "source": [
    "Combine PC coordinates with the original dataset to color samples based on the categorical variable (Species) which had been removed during the PCA. \n",
    "This is done using the augment() function from the broom package, which combines the fitted model with the original data. \n",
    "Columns with fitted coordinates are named .fittedPC1, .fittedPC2, etc."
   ]
  },
  {
   "cell_type": "code",
   "execution_count": null,
   "id": "6024248a-bf11-44f0-ac10-00bf9b9b0d81",
   "metadata": {
    "scrolled": true
   },
   "outputs": [],
   "source": [
    "# assign fitted model plus original data to new variable pca_fit2\n",
    "pca_fit2 <-\n",
    "  pca_fit %>% \n",
    "  augment(log10.morph)  \n",
    "\n",
    "pca_fit2"
   ]
  },
  {
   "cell_type": "markdown",
   "id": "5ab14751-7d54-4ed5-b5f5-9f6f006d5d17",
   "metadata": {},
   "source": [
    "### b) Visualize the variance explained by each PC"
   ]
  },
  {
   "cell_type": "code",
   "execution_count": null,
   "id": "ac4f35ed-2fb3-46cb-b54d-71db664102c1",
   "metadata": {
    "scrolled": true
   },
   "outputs": [],
   "source": [
    "pca_fit %>%\n",
    "  tidy(matrix = \"eigenvalues\")"
   ]
  },
  {
   "cell_type": "code",
   "execution_count": null,
   "id": "ff9aa5e1-ae10-4279-895f-13e3f09fb341",
   "metadata": {},
   "outputs": [],
   "source": [
    "# Make barplot of PCs\n",
    "x <- pca_fit %>%\n",
    "  tidy(matrix = \"eigenvalues\") %>%\n",
    "  ggplot(aes(PC, percent)) +\n",
    "  xlab (\"PC\") + ylab (\"Percent Variance\") +\n",
    "  geom_col(alpha = 0.8) +\n",
    "  scale_x_continuous(breaks = 1:9) +\n",
    "  scale_y_continuous(labels = scales::percent_format(),\n",
    "                     expand = expansion(mult = c(0, 0.01))) +\n",
    "  theme_minimal_hgrid(12)\n",
    "\n",
    "barplot = plot(x)"
   ]
  },
  {
   "cell_type": "code",
   "execution_count": null,
   "id": "c5b8599a-7a81-43f4-9844-5cef5238ef27",
   "metadata": {},
   "outputs": [],
   "source": [
    "# save barplot to a pdf file named \"PCA barplot.pdf\"\n",
    "ggsave(filename=ev_file, plot=barplot, device=\"pdf\")"
   ]
  },
  {
   "cell_type": "markdown",
   "id": "b6c4feb6-2b94-49b4-981c-e9acba632fc9",
   "metadata": {},
   "source": [
    "### c) Plot each sample using the first two PCs."
   ]
  },
  {
   "cell_type": "code",
   "execution_count": null,
   "id": "404f64b3-f90b-4d8b-a6a8-5820a7e22ccd",
   "metadata": {},
   "outputs": [],
   "source": [
    "# Plot biplot colored by species to look for separation between groups\n",
    "p <- ggplot(pca_fit2,\n",
    "            aes(x = .fittedPC1,\n",
    "                y = .fittedPC2,\n",
    "                text = paste(\"Specimen:\", ID))) + \n",
    "     geom_point(color = 'black',\n",
    "                shape = 21,\n",
    "                size = 3,\n",
    "                aes(fill = Species)) +\n",
    "     scale_fill_manual(values = palette_cb_ext) +\n",
    "     theme_half_open(12) + \n",
    "     background_grid()"
   ]
  },
  {
   "cell_type": "code",
   "execution_count": null,
   "id": "1aab0ebc-0767-4c29-8497-43b1452f5c58",
   "metadata": {},
   "outputs": [],
   "source": [
    "# create static plot\n",
    "static_pca <- plot(p)"
   ]
  },
  {
   "cell_type": "code",
   "execution_count": null,
   "id": "ea694fa1-4afe-45fd-99d8-f556efcb8ee7",
   "metadata": {},
   "outputs": [],
   "source": [
    "# save static plot as pdf\n",
    "ggsave(filename=pca_static_file, plot=static_pca, device=\"pdf\")"
   ]
  },
  {
   "cell_type": "code",
   "execution_count": null,
   "id": "dc3c618c-556b-423d-a211-919004bc967b",
   "metadata": {},
   "outputs": [],
   "source": [
    "# use ggplotly to convert ggplot2 object to plotly object for interactive plot\n",
    "interactive_plot <- ggplotly(p)  \n",
    "\n",
    "# display interactive plot in new tab\n",
    "html_print(\n",
    "  interactive_plot,\n",
    "  viewer = getOption(\"viewer\", utils::browseURL)\n",
    ")"
   ]
  },
  {
   "cell_type": "code",
   "execution_count": null,
   "id": "8ee9c198-f6c0-42d6-9889-494ffefe8ff7",
   "metadata": {},
   "outputs": [],
   "source": [
    "# save interactive plot for future reference\n",
    "htmlwidgets::saveWidget(as_widget(interactive_plot), pca_dynamic_file)"
   ]
  },
  {
   "cell_type": "markdown",
   "id": "de741273-102d-4139-9bd7-9ef35bf623f2",
   "metadata": {},
   "source": [
    "### d) Visualize rotation matrix"
   ]
  },
  {
   "cell_type": "code",
   "execution_count": null,
   "id": "1e1a3065-dcf9-43ac-9896-feefc9b0bee0",
   "metadata": {},
   "outputs": [],
   "source": [
    "# Extract rotation matrix\n",
    "pca_fit %>%\n",
    "  tidy(matrix = \"rotation\")"
   ]
  },
  {
   "cell_type": "code",
   "execution_count": null,
   "id": "8ccd8491-99a1-45b7-8374-de5c7fbf9b41",
   "metadata": {
    "scrolled": true
   },
   "outputs": [],
   "source": [
    "# Examine factor loadings from rotation matrix\n",
    "PCA_var <- pca_fit %>%\n",
    "  # Extract variable coordinates\n",
    "  tidy(matrix = \"rotation\") %>%\n",
    "  # Format table form long to wide\n",
    "  pivot_wider(names_from = \"PC\",\n",
    "              names_prefix = \"PC\",\n",
    "              values_from = \"value\") %>%\n",
    "  # Rename column with variable names; \n",
    "  # specify dplyr to avoid package conflicts with 'rename'\n",
    "  dplyr::rename(Variable = column) %>%\n",
    "  # 'Clean' variable names\n",
    "  # Upper case on first letter\n",
    "  mutate(Variable = stringr::str_to_title(Variable)) %>%\n",
    "  # Change '_' for space\n",
    "  mutate(Variable = stringr::str_replace_all(Variable, \"_\", \" \"))\n",
    "\n",
    "PCA_var"
   ]
  },
  {
   "cell_type": "code",
   "execution_count": null,
   "id": "6d2f6068-5a72-43a4-b926-801b1425d2d2",
   "metadata": {},
   "outputs": [],
   "source": [
    "# save PCA_var to csv file\n",
    "write_csv(PCA_var, pca_var_file)"
   ]
  },
  {
   "cell_type": "code",
   "execution_count": null,
   "id": "d6401bbb-23b6-41b1-a19e-d4d87421e061",
   "metadata": {},
   "outputs": [],
   "source": [
    "# calculate cutoff for 'important' loadings\n",
    "cutoff <- morph %>% select(!c(Specimen, Species))\n",
    "sqrt(1/ncol(cutoff))"
   ]
  },
  {
   "cell_type": "code",
   "execution_count": null,
   "id": "2b412d87-8486-43ae-9542-aa6ae385de54",
   "metadata": {},
   "outputs": [],
   "source": [
    "# Define arrow style for plotting\n",
    "arrow_style <- arrow(\n",
    "    angle = 20,\n",
    "    ends = \"first\",\n",
    "    type = \"closed\",\n",
    "    length = grid::unit(8, \"pt\")\n",
    ")"
   ]
  },
  {
   "cell_type": "code",
   "execution_count": null,
   "id": "1c04db0a-2556-4ffe-ab0b-3b54f27d5272",
   "metadata": {},
   "outputs": [],
   "source": [
    "# Plot rotation matrix; use geom_text_repel to avoid label overlap \n",
    "rotation_matrix <- pca_fit %>% \n",
    "    tidy(matrix = \"rotation\") %>%\n",
    "    pivot_wider(names_from = \"PC\",\n",
    "                names_prefix = \"PC\",\n",
    "                values_from = \"value\") %>%\n",
    "    ggplot(aes(PC1, PC2)) +\n",
    "    geom_segment(xend = 0, yend = 0, arrow = arrow_style) +\n",
    "    geom_text_repel(aes(label = column),\n",
    "                    hjust = 1,\n",
    "                    nudge_x = -0.02,\n",
    "                    color = \"#904C2F\") +\n",
    "    xlim(-0.5, 0.5) + \n",
    "    ylim(-0.5, 0.5) +\n",
    "    coord_fixed() + # fix aspect ratio to 1:1\n",
    "    theme_minimal()\n",
    "\n",
    "rotation_matrix"
   ]
  },
  {
   "cell_type": "code",
   "execution_count": null,
   "id": "909bec34-3a0b-4c47-a03f-864eb6784240",
   "metadata": {},
   "outputs": [],
   "source": [
    "# save rotation matrix plot to pdf\n",
    "ggsave(filename=rotation_file, plot=rotation_matrix, device=\"pdf\")"
   ]
  },
  {
   "cell_type": "code",
   "execution_count": null,
   "id": "96943e85-3873-45ab-a204-a7205d7d6653",
   "metadata": {},
   "outputs": [],
   "source": [
    "# Display session info\n",
    "devtools::session_info()"
   ]
  },
  {
   "cell_type": "code",
   "execution_count": null,
   "id": "89cd535c-246e-4f66-8d3f-ce1e61dbc27c",
   "metadata": {},
   "outputs": [],
   "source": []
  }
 ],
 "metadata": {
  "kernelspec": {
   "display_name": "R",
   "language": "R",
   "name": "ir"
  },
  "language_info": {
   "codemirror_mode": "r",
   "file_extension": ".r",
   "mimetype": "text/x-r-source",
   "name": "R",
   "pygments_lexer": "r",
   "version": "4.1.3"
  }
 },
 "nbformat": 4,
 "nbformat_minor": 5
}
